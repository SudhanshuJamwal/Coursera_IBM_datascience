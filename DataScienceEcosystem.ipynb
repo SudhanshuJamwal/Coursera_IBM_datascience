{
  "nbformat": 4,
  "nbformat_minor": 0,
  "metadata": {
    "colab": {
      "provenance": []
    },
    "kernelspec": {
      "name": "python3",
      "display_name": "Python 3"
    },
    "language_info": {
      "name": "python"
    }
  },
  "cells": [
    {
      "cell_type": "markdown",
      "source": [
        "# Data Science Tools and Ecosystems"
      ],
      "metadata": {
        "id": "fhvucJMHUgR8"
      }
    },
    {
      "cell_type": "markdown",
      "source": [
        "In this notebook, Data Science Tools and Ecosystem are summarized."
      ],
      "metadata": {
        "id": "IjpwfbFuT4BW"
      }
    },
    {
      "cell_type": "markdown",
      "source": [
        "**Objectives:**\n",
        "- List popular languages for Data Science\n",
        "- List commonly used libraries\n",
        "- How to create an table in jupiter notebook\n",
        "- Basic arithmetic operations"
      ],
      "metadata": {
        "id": "LoZEWC1pduxP"
      }
    },
    {
      "cell_type": "markdown",
      "source": [
        "Some of the popular languages that Data Scientists use are:\n",
        "1. R\n",
        "2. Python\n",
        "3. Scala\n"
      ],
      "metadata": {
        "id": "VwRx95rPUqgg"
      }
    },
    {
      "cell_type": "markdown",
      "source": [
        "Some of the commonly used libraries used by Data Scientists include:\n",
        "1. Matplotlib\n",
        "2. Panda\n",
        "3. Numpy\n",
        "4. Scikit"
      ],
      "metadata": {
        "id": "J9m6Y8CsVEjO"
      }
    },
    {
      "cell_type": "markdown",
      "source": [
        "|Data Science Tools|\n",
        "|----------|\n",
        "|Jupiter Notebook|\n",
        "|R studio|\n",
        "VS code"
      ],
      "metadata": {
        "id": "bK0cCE0sVbbs"
      }
    },
    {
      "cell_type": "markdown",
      "source": [
        "### Below are a few examples of evaluating arithmetic expressions in Python"
      ],
      "metadata": {
        "id": "5_zeoKa3Zqe_"
      }
    },
    {
      "cell_type": "code",
      "source": [
        "##This a simple arithmetic expression to mutiply then add integers\n",
        "(3*4)+5"
      ],
      "metadata": {
        "colab": {
          "base_uri": "https://localhost:8080/"
        },
        "id": "znQ3UqjXaQcZ",
        "outputId": "b6444b97-57ca-4791-e892-c036a2b2b890"
      },
      "execution_count": 10,
      "outputs": [
        {
          "output_type": "execute_result",
          "data": {
            "text/plain": [
              "17"
            ]
          },
          "metadata": {},
          "execution_count": 10
        }
      ]
    },
    {
      "cell_type": "code",
      "source": [
        "##This will convert 200 minutes to hours by diving by 60\n",
        "200/60"
      ],
      "metadata": {
        "colab": {
          "base_uri": "https://localhost:8080/"
        },
        "id": "BsVmeLRnb8tO",
        "outputId": "d5958655-4661-4fac-9309-968de191401f"
      },
      "execution_count": 9,
      "outputs": [
        {
          "output_type": "execute_result",
          "data": {
            "text/plain": [
              "3.3333333333333335"
            ]
          },
          "metadata": {},
          "execution_count": 9
        }
      ]
    },
    {
      "cell_type": "markdown",
      "source": [
        "##Author\n",
        "Sudhanshu Jamwal"
      ],
      "metadata": {
        "id": "j4WPGKFefKph"
      }
    }
  ]
}